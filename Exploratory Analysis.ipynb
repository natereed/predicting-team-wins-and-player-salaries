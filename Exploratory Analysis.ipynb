{
 "cells": [
  {
   "cell_type": "code",
   "execution_count": 1,
   "metadata": {
    "collapsed": true
   },
   "outputs": [],
   "source": [
    "import csv"
   ]
  },
  {
   "cell_type": "code",
   "execution_count": 2,
   "metadata": {
    "collapsed": true
   },
   "outputs": [],
   "source": [
    "#reader = csv.read('salaries.csv')\n",
    "#for row in reader:\n",
    "    \n"
   ]
  },
  {
   "cell_type": "code",
   "execution_count": 3,
   "metadata": {
    "collapsed": true
   },
   "outputs": [],
   "source": [
    "import pandas as pd\n",
    "import numpy as np\n",
    "\n"
   ]
  },
  {
   "cell_type": "code",
   "execution_count": 4,
   "metadata": {
    "collapsed": true
   },
   "outputs": [],
   "source": [
    "df = pd.read_csv(\"salaries.csv\")"
   ]
  },
  {
   "cell_type": "code",
   "execution_count": 5,
   "metadata": {
    "collapsed": false
   },
   "outputs": [
    {
     "data": {
      "text/html": [
       "<div>\n",
       "<table border=\"1\" class=\"dataframe\">\n",
       "  <thead>\n",
       "    <tr style=\"text-align: right;\">\n",
       "      <th></th>\n",
       "      <th>salary</th>\n",
       "      <th>name</th>\n",
       "      <th>total_value</th>\n",
       "      <th>pos</th>\n",
       "      <th>years</th>\n",
       "      <th>avg_annual</th>\n",
       "      <th>team</th>\n",
       "    </tr>\n",
       "  </thead>\n",
       "  <tbody>\n",
       "    <tr>\n",
       "      <th>0</th>\n",
       "      <td>$ 3,800,000</td>\n",
       "      <td>Darryl Strawberry</td>\n",
       "      <td>$ 3,800,000</td>\n",
       "      <td>OF</td>\n",
       "      <td>1 (1991)</td>\n",
       "      <td>$ 3,800,000</td>\n",
       "      <td>LAD</td>\n",
       "    </tr>\n",
       "    <tr>\n",
       "      <th>1</th>\n",
       "      <td>$ 3,750,000</td>\n",
       "      <td>Kevin Mitchell</td>\n",
       "      <td>$ 3,750,000</td>\n",
       "      <td>OF</td>\n",
       "      <td>1 (1991)</td>\n",
       "      <td>$ 3,750,000</td>\n",
       "      <td>SF</td>\n",
       "    </tr>\n",
       "    <tr>\n",
       "      <th>2</th>\n",
       "      <td>$ 3,750,000</td>\n",
       "      <td>Will Clark</td>\n",
       "      <td>$ 3,750,000</td>\n",
       "      <td>1B</td>\n",
       "      <td>1 (1991)</td>\n",
       "      <td>$ 3,750,000</td>\n",
       "      <td>SF</td>\n",
       "    </tr>\n",
       "    <tr>\n",
       "      <th>3</th>\n",
       "      <td>$ 3,625,000</td>\n",
       "      <td>Mark Davis</td>\n",
       "      <td>$ 3,625,000</td>\n",
       "      <td>P</td>\n",
       "      <td>1 (1991)</td>\n",
       "      <td>$ 3,625,000</td>\n",
       "      <td>KC</td>\n",
       "    </tr>\n",
       "    <tr>\n",
       "      <th>4</th>\n",
       "      <td>$ 3,600,000</td>\n",
       "      <td>Eric Davis</td>\n",
       "      <td>$ 3,600,000</td>\n",
       "      <td>OF</td>\n",
       "      <td>1 (1991)</td>\n",
       "      <td>$ 3,600,000</td>\n",
       "      <td>CIN</td>\n",
       "    </tr>\n",
       "  </tbody>\n",
       "</table>\n",
       "</div>"
      ],
      "text/plain": [
       "        salary               name  total_value pos     years   avg_annual team\n",
       "0  $ 3,800,000  Darryl Strawberry  $ 3,800,000  OF  1 (1991)  $ 3,800,000  LAD\n",
       "1  $ 3,750,000     Kevin Mitchell  $ 3,750,000  OF  1 (1991)  $ 3,750,000   SF\n",
       "2  $ 3,750,000         Will Clark  $ 3,750,000  1B  1 (1991)  $ 3,750,000   SF\n",
       "3  $ 3,625,000         Mark Davis  $ 3,625,000   P  1 (1991)  $ 3,625,000   KC\n",
       "4  $ 3,600,000         Eric Davis  $ 3,600,000  OF  1 (1991)  $ 3,600,000  CIN"
      ]
     },
     "execution_count": 5,
     "metadata": {},
     "output_type": "execute_result"
    }
   ],
   "source": [
    "df.head()\n"
   ]
  },
  {
   "cell_type": "code",
   "execution_count": 23,
   "metadata": {
    "collapsed": false
   },
   "outputs": [],
   "source": [
    "import matplotlib.pyplot as plt\n",
    "\n",
    "df['salary'] = df['salary'].replace('[\\$,)]', '', regex=True)\n",
    "df['total_value'] = df['total_value'].replace('[\\$,)]', '', regex=True)\n",
    "df['avg_annual'] = df['avg_annual'].replace('[\\$,)]', '', regex=True)\n"
   ]
  },
  {
   "cell_type": "code",
   "execution_count": 26,
   "metadata": {
    "collapsed": false
   },
   "outputs": [],
   "source": [
    "df['salary'] = pd.to_numeric(df['salary'])"
   ]
  },
  {
   "cell_type": "code",
   "execution_count": 31,
   "metadata": {
    "collapsed": false
   },
   "outputs": [
    {
     "data": {
      "image/png": "[encoded data removed]",
      "text/plain": [
       "<matplotlib.figure.Figure at 0x218d02189e8>"
      ]
     },
     "metadata": {},
     "output_type": "display_data"
    }
   ],
   "source": [
    "%matplotlib inline\n",
    "\n",
    "plt.hist(df['salary'], 50)\n",
    "plt.show()"
   ]
  },
  {
   "cell_type": "code",
   "execution_count": 6,
   "metadata": {
    "collapsed": false
   },
   "outputs": [
    {
     "data": {
      "text/plain": [
       "count         22836\n",
       "unique         2921\n",
       "top       $ 500,000\n",
       "freq            427\n",
       "Name: salary, dtype: object"
      ]
     },
     "execution_count": 6,
     "metadata": {},
     "output_type": "execute_result"
    }
   ],
   "source": [
    "df['salary'].describe()"
   ]
  },
  {
   "cell_type": "code",
   "execution_count": 7,
   "metadata": {
    "collapsed": false
   },
   "outputs": [
    {
     "data": {
      "text/plain": [
       "count        22836\n",
       "unique          86\n",
       "top       1 (1990)\n",
       "freq           972\n",
       "Name: years, dtype: object"
      ]
     },
     "execution_count": 7,
     "metadata": {},
     "output_type": "execute_result"
    }
   ],
   "source": [
    "df['years'].describe()"
   ]
  },
  {
   "cell_type": "code",
   "execution_count": 9,
   "metadata": {
    "collapsed": false
   },
   "outputs": [
    {
     "data": {
      "text/plain": [
       "array(['1 (1991)', '1 (1990)', '1 (1993)', '1 (1988)', '1 (1992)',\n",
       "       '1 (1994)', '1 (1989)', '1 (1995)', '1 (1996)', '1 (2004)',\n",
       "       '1 (2000)', '1 (1998)', '1 (2005)', '1 (1997)', '1 (2002)',\n",
       "       '1 (2001)', '1 (1999)', '1 (2003)', '10 (2008-17)', '1 (2006)',\n",
       "       '1 (2008)', '1 (2007)', '1 (2009)', '8 (2009-16)', '1 (2011)',\n",
       "       '1 (2010)', '6 (2008-13)', '1 (2012)', '8 (2011-18)', '8 (2008-15)',\n",
       "       '9 (2012-20)', '7 (2007-13)', '8 (2007-14)', '3 (2011-13)',\n",
       "       '5 (2012-16)', '7 (2012-18)', '5 (2011-15)', '5 (2010-14)',\n",
       "       '7 (2011-17)', '7 (2010-16)', '2 (2012-13)', '5 (2009-13)',\n",
       "       '6 (2012-17)', '4 (2011-14)', '7 (2008-14)', '6 (2009-14)',\n",
       "       '10 (2012-20)', '7 (2014-20)', '4 (2010-13)', '4 (2012-15)',\n",
       "       '3 (2012-14)', '8 (2012-19)', '10 (2011-20)', '6 (2010-15)',\n",
       "       '6 (2011-16)', '2 (2011-12)', '6 (2013-18)', '7 (2013-19)',\n",
       "       '10 (2014-23)', '5 (2013-17)', '10 (2012-21)', '5 (2014-18)',\n",
       "       '8 (2013-20)', '1 (2016)', '6 (2015-20)', '4 (2015-18)',\n",
       "       '2 (2013-14)', '1 (2015)', '2 (2014-15)', '1 (2014)', '5 (2015-19)',\n",
       "       '9 (2013-21)', '7 (2015-21)', '4 (2014-17)', '1 (2013)',\n",
       "       '8 (2015-22)', '4 (2013-16)', '3 (2014-16)', '6 (2014-19)',\n",
       "       '3 (2013-15)', '13 (2008-20)', '3 (2015-17)', '8 (2014-21)',\n",
       "       '2 (2015-16)', '10 (2013-22)', '13 (2015-27)'], dtype=object)"
      ]
     },
     "execution_count": 9,
     "metadata": {},
     "output_type": "execute_result"
    }
   ],
   "source": [
    "df['years'].unique()"
   ]
  },
  {
   "cell_type": "code",
   "execution_count": null,
   "metadata": {
    "collapsed": true
   },
   "outputs": [],
   "source": []
  }
 ],
 "metadata": {
  "anaconda-cloud": {},
  "kernelspec": {
   "display_name": "Data Analysis (Python 3)",
   "language": "python",
   "name": "data_analysis_py3"
  },
  "language_info": {
   "codemirror_mode": {
    "name": "ipython",
    "version": 3
   },
   "file_extension": ".py",
   "mimetype": "text/x-python",
   "name": "python",
   "nbconvert_exporter": "python",
   "pygments_lexer": "ipython3",
   "version": "3.5.2"
  }
 },
 "nbformat": 4,
 "nbformat_minor": 0
}
