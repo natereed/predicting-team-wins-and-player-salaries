{
 "cells": [
  {
   "cell_type": "code",
   "execution_count": 2,
   "metadata": {
    "collapsed": true
   },
   "outputs": [],
   "source": [
    "import os\n",
    "import pandas as pd\n",
    "import numpy as np"
   ]
  },
  {
   "cell_type": "code",
   "execution_count": 3,
   "metadata": {
    "collapsed": false
   },
   "outputs": [
    {
     "data": {
      "text/html": [
       "<div>\n",
       "<table border=\"1\" class=\"dataframe\">\n",
       "  <thead>\n",
       "    <tr style=\"text-align: right;\">\n",
       "      <th></th>\n",
       "      <th>Player Id</th>\n",
       "      <th>Year</th>\n",
       "      <th>Position</th>\n",
       "      <th>Adjusted Salary</th>\n",
       "      <th>Log Adjusted Salary</th>\n",
       "      <th>Adjusted Team Payroll</th>\n",
       "      <th>Batting_Career_Num_Seasons</th>\n",
       "      <th>Batting_Career_G</th>\n",
       "      <th>Batting_Career_SB</th>\n",
       "      <th>Batting_Career_RBI</th>\n",
       "      <th>...</th>\n",
       "      <th>Num_Post_Season_Appearances</th>\n",
       "      <th>Num_All_Star_Appearances</th>\n",
       "      <th>0.0</th>\n",
       "      <th>1B</th>\n",
       "      <th>2B</th>\n",
       "      <th>3B</th>\n",
       "      <th>C</th>\n",
       "      <th>MULTIPLE</th>\n",
       "      <th>P</th>\n",
       "      <th>SS</th>\n",
       "    </tr>\n",
       "  </thead>\n",
       "  <tbody>\n",
       "    <tr>\n",
       "      <th>0</th>\n",
       "      <td>blanche01</td>\n",
       "      <td>2011</td>\n",
       "      <td>C</td>\n",
       "      <td>0.296</td>\n",
       "      <td>-1.218</td>\n",
       "      <td>0.221</td>\n",
       "      <td>0.522</td>\n",
       "      <td>0.297</td>\n",
       "      <td>0.008</td>\n",
       "      <td>0.158</td>\n",
       "      <td>...</td>\n",
       "      <td>0.0</td>\n",
       "      <td>0.0</td>\n",
       "      <td>0.0</td>\n",
       "      <td>0.0</td>\n",
       "      <td>0.0</td>\n",
       "      <td>0.0</td>\n",
       "      <td>1.0</td>\n",
       "      <td>0.0</td>\n",
       "      <td>0.0</td>\n",
       "      <td>0.0</td>\n",
       "    </tr>\n",
       "    <tr>\n",
       "      <th>1</th>\n",
       "      <td>bloomwi01</td>\n",
       "      <td>2011</td>\n",
       "      <td>MULTIPLE</td>\n",
       "      <td>0.266</td>\n",
       "      <td>-1.323</td>\n",
       "      <td>0.221</td>\n",
       "      <td>0.348</td>\n",
       "      <td>0.257</td>\n",
       "      <td>0.176</td>\n",
       "      <td>0.086</td>\n",
       "      <td>...</td>\n",
       "      <td>0.0</td>\n",
       "      <td>0.0</td>\n",
       "      <td>0.0</td>\n",
       "      <td>0.0</td>\n",
       "      <td>0.0</td>\n",
       "      <td>0.0</td>\n",
       "      <td>0.0</td>\n",
       "      <td>1.0</td>\n",
       "      <td>0.0</td>\n",
       "      <td>0.0</td>\n",
       "    </tr>\n",
       "    <tr>\n",
       "      <th>2</th>\n",
       "      <td>blumge01</td>\n",
       "      <td>2011</td>\n",
       "      <td>MULTIPLE</td>\n",
       "      <td>0.399</td>\n",
       "      <td>-0.918</td>\n",
       "      <td>0.221</td>\n",
       "      <td>0.478</td>\n",
       "      <td>0.464</td>\n",
       "      <td>0.032</td>\n",
       "      <td>0.280</td>\n",
       "      <td>...</td>\n",
       "      <td>0.0</td>\n",
       "      <td>0.0</td>\n",
       "      <td>0.0</td>\n",
       "      <td>0.0</td>\n",
       "      <td>0.0</td>\n",
       "      <td>0.0</td>\n",
       "      <td>0.0</td>\n",
       "      <td>1.0</td>\n",
       "      <td>0.0</td>\n",
       "      <td>0.0</td>\n",
       "    </tr>\n",
       "    <tr>\n",
       "      <th>3</th>\n",
       "      <td>branyru01</td>\n",
       "      <td>2011</td>\n",
       "      <td>1B</td>\n",
       "      <td>0.296</td>\n",
       "      <td>-1.218</td>\n",
       "      <td>0.221</td>\n",
       "      <td>0.522</td>\n",
       "      <td>0.341</td>\n",
       "      <td>0.024</td>\n",
       "      <td>0.271</td>\n",
       "      <td>...</td>\n",
       "      <td>0.0</td>\n",
       "      <td>0.0</td>\n",
       "      <td>0.0</td>\n",
       "      <td>1.0</td>\n",
       "      <td>0.0</td>\n",
       "      <td>0.0</td>\n",
       "      <td>0.0</td>\n",
       "      <td>0.0</td>\n",
       "      <td>0.0</td>\n",
       "      <td>0.0</td>\n",
       "    </tr>\n",
       "    <tr>\n",
       "      <th>4</th>\n",
       "      <td>demelsa01</td>\n",
       "      <td>2011</td>\n",
       "      <td>P</td>\n",
       "      <td>0.123</td>\n",
       "      <td>-2.092</td>\n",
       "      <td>0.221</td>\n",
       "      <td>0.000</td>\n",
       "      <td>0.012</td>\n",
       "      <td>0.000</td>\n",
       "      <td>0.000</td>\n",
       "      <td>...</td>\n",
       "      <td>0.0</td>\n",
       "      <td>0.0</td>\n",
       "      <td>0.0</td>\n",
       "      <td>0.0</td>\n",
       "      <td>0.0</td>\n",
       "      <td>0.0</td>\n",
       "      <td>0.0</td>\n",
       "      <td>0.0</td>\n",
       "      <td>1.0</td>\n",
       "      <td>0.0</td>\n",
       "    </tr>\n",
       "  </tbody>\n",
       "</table>\n",
       "<p>5 rows × 45 columns</p>\n",
       "</div>"
      ],
      "text/plain": [
       "   Player Id  Year  Position  Adjusted Salary  Log Adjusted Salary  \\\n",
       "0  blanche01  2011         C            0.296               -1.218   \n",
       "1  bloomwi01  2011  MULTIPLE            0.266               -1.323   \n",
       "2   blumge01  2011  MULTIPLE            0.399               -0.918   \n",
       "3  branyru01  2011        1B            0.296               -1.218   \n",
       "4  demelsa01  2011         P            0.123               -2.092   \n",
       "\n",
       "   Adjusted Team Payroll  Batting_Career_Num_Seasons  Batting_Career_G  \\\n",
       "0                  0.221                       0.522             0.297   \n",
       "1                  0.221                       0.348             0.257   \n",
       "2                  0.221                       0.478             0.464   \n",
       "3                  0.221                       0.522             0.341   \n",
       "4                  0.221                       0.000             0.012   \n",
       "\n",
       "   Batting_Career_SB  Batting_Career_RBI ...   Num_Post_Season_Appearances  \\\n",
       "0              0.008               0.158 ...                           0.0   \n",
       "1              0.176               0.086 ...                           0.0   \n",
       "2              0.032               0.280 ...                           0.0   \n",
       "3              0.024               0.271 ...                           0.0   \n",
       "4              0.000               0.000 ...                           0.0   \n",
       "\n",
       "   Num_All_Star_Appearances  0.0   1B   2B   3B    C  MULTIPLE    P   SS  \n",
       "0                       0.0  0.0  0.0  0.0  0.0  1.0       0.0  0.0  0.0  \n",
       "1                       0.0  0.0  0.0  0.0  0.0  0.0       1.0  0.0  0.0  \n",
       "2                       0.0  0.0  0.0  0.0  0.0  0.0       1.0  0.0  0.0  \n",
       "3                       0.0  0.0  1.0  0.0  0.0  0.0       0.0  0.0  0.0  \n",
       "4                       0.0  0.0  0.0  0.0  0.0  0.0       0.0  1.0  0.0  \n",
       "\n",
       "[5 rows x 45 columns]"
      ]
     },
     "execution_count": 3,
     "metadata": {},
     "output_type": "execute_result"
    }
   ],
   "source": [
    "df = pd.read_csv(os.path.join(\"data\", \"db\", \"CleanedObservations.csv\"))\n",
    "df.head()"
   ]
  },
  {
   "cell_type": "markdown",
   "metadata": {
    "collapsed": true
   },
   "source": [
    "##  Regression on \"Log Adjusted Salary\"\n",
    "\n",
    "We test LinearRegression on the log(y), where y is the Adjusted Salary:"
   ]
  },
  {
   "cell_type": "code",
   "execution_count": 7,
   "metadata": {
    "collapsed": false
   },
   "outputs": [
    {
     "name": "stdout",
     "output_type": "stream",
     "text": [
      "0.601713736421\n"
     ]
    },
    {
     "name": "stderr",
     "output_type": "stream",
     "text": [
      "C:\\Users\\Owner\\Anaconda3\\envs\\data_analysis\\lib\\site-packages\\ipykernel\\__main__.py:37: FutureWarning: sort(columns=....) is deprecated, use sort_values(by=.....)\n"
     ]
    },
    {
     "name": "stdout",
     "output_type": "stream",
     "text": [
      "Accuracy: 0.56 (+/- 0.19)\n"
     ]
    }
   ],
   "source": [
    "players = df['Player Id'].unique()\n",
    "\n",
    "from sklearn import linear_model\n",
    "from sklearn import cross_validation\n",
    "from sklearn.model_selection import cross_val_score\n",
    "from sklearn.model_selection import GroupKFold\n",
    "\n",
    "players = df['Player Id'].unique()\n",
    "\n",
    "columns = ['Adjusted Team Payroll', \n",
    "           'Batting_Career_Num_Seasons', \n",
    "           'Batting_Career_HR',\n",
    "           'Batting_Career_SB',\n",
    "           'Batting_Career_RBI',\n",
    "           'Pitching_Career_SO',\n",
    "           'Pitching_Career_ERA',\n",
    "           'Fielding_Career_A',\n",
    "           'Fielding_Career_PO',\n",
    "           'Fielding_Career_E',\n",
    "           'Fielding_Career_G',\n",
    "           '0.0', '1B', '2B', '3B', 'C', 'MULTIPLE', 'P', 'SS']\n",
    "regr = linear_model.LinearRegression()\n",
    "\n",
    "X = np.asarray(pd.DataFrame(df, columns=columns))\n",
    "y = np.asarray(df['Log Adjusted Salary'])\n",
    "\n",
    "from sklearn.linear_model import LinearRegression\n",
    "regr = LinearRegression()\n",
    "\n",
    "# Simple train/test split\n",
    "x_train, x_test, y_train, y_test = cross_validation.train_test_split(X, y, test_size=0.3, random_state=55)\n",
    "regr.fit(x_train, y_train)\n",
    "score = regr.score(x_test, y_test)\n",
    "print(score)\n",
    "\n",
    "# Get groups for GroupKFold\n",
    "df.sort(['Player Id'], inplace=True)\n",
    "players = list(df['Player Id'].values)\n",
    "groups = [players.index(row['Player Id']) for index, row in df.iterrows()]\n",
    "\n",
    "# 5-fold CV:\n",
    "scores = cross_val_score(regr, X, y, groups, cv=GroupKFold(n_splits=5))\n",
    "print(\"Accuracy: %0.2f (+/- %0.2f)\" % (scores.mean(), scores.std() * 2))"
   ]
  },
  {
   "cell_type": "markdown",
   "metadata": {},
   "source": [
    "## Validating the accuracy of our log-linear model"
   ]
  },
  {
   "cell_type": "markdown",
   "metadata": {},
   "source": [
    "Implement predict(X) for a LogLinearRegression class that extends Linear Regression\n",
    "\n",
    "Adjust the predictions as described here: http://davegiles.blogspot.com/2013/08/forecasting-from-log-linear-regressions.html\n",
    "\n",
    "Compare the results of LogLinearRegression.predict(X) and exp(LinearRegression.predict(X))."
   ]
  },
  {
   "cell_type": "code",
   "execution_count": 6,
   "metadata": {
    "collapsed": false
   },
   "outputs": [
    {
     "name": "stdout",
     "output_type": "stream",
     "text": [
      "[ 0.47935687  0.24483153  0.60596386 ...,  0.27366329  0.60183566\n",
      "  0.1849891 ]\n",
      "[ 0.47933691  0.24482134  0.60593863 ...,  0.27365189  0.6018106   0.1849814 ]\n",
      "[  1.99557280e-05   1.01923885e-05   2.52264038e-05 ...,   1.13926606e-05\n",
      "   2.50545458e-05   7.70113546e-06]\n"
     ]
    }
   ],
   "source": [
    "from sklearn.linear_model import LinearRegression\n",
    "class LogLinearRegression(LinearRegression):\n",
    "    def fit(self, x, y):\n",
    "        self.actuals = y\n",
    "        LinearRegression.fit(self, x, y)\n",
    "        \n",
    "    def predict(self, X):\n",
    "        y = LinearRegression.predict(self, X)\n",
    "        sum_of_sq_err = 0\n",
    "        for i, prediction in enumerate(y):\n",
    "           sum_of_sq_err = np.square(prediction - self.actuals[i])\n",
    "        \n",
    "        return np.exp(y + (sum_of_sq_err / (len(y) - len(self.coef_))) / 2)\n",
    "    \n",
    "\n",
    "regr = LogLinearRegression()\n",
    "regr.fit(x_train, y_train)\n",
    "predictions1 = regr.predict(x_train)\n",
    "print(predictions1)\n",
    "\n",
    "regr = LinearRegression()\n",
    "regr.fit(x_train, y_train)\n",
    "predictions2 = np.exp(regr.predict(x_train))\n",
    "print(predictions2)\n",
    "\n",
    "print(predictions1 - predictions2)\n"
   ]
  },
  {
   "cell_type": "markdown",
   "metadata": {
    "collapsed": true
   },
   "source": [
    "The differences between the predicted values are close enough. We can just rely on the prediction y from LinearRegression for our log(y) model, and to get the predicted value just take exp(y)."
   ]
  }
 ],
 "metadata": {
  "anaconda-cloud": {},
  "kernelspec": {
   "display_name": "Data Analysis (Python 3)",
   "language": "python",
   "name": "data_analysis_py3"
  },
  "language_info": {
   "codemirror_mode": {
    "name": "ipython",
    "version": 3
   },
   "file_extension": ".py",
   "mimetype": "text/x-python",
   "name": "python",
   "nbconvert_exporter": "python",
   "pygments_lexer": "ipython3",
   "version": "3.5.2"
  }
 },
 "nbformat": 4,
 "nbformat_minor": 0
}
